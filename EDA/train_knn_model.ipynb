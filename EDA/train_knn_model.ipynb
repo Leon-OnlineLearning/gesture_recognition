{
 "cells": [
  {
   "cell_type": "code",
   "execution_count": 1,
   "id": "4d843a71",
   "metadata": {},
   "outputs": [],
   "source": [
    "import os\n",
    "import pandas as pd\n",
    "import numpy as np\n",
    "\n",
    "data_path = '/run/media/mh1644/My work/machine learning/deep_learning/computer_vision/livenes_detection/data/code/file2.csv'\n",
    "hand_pose  = pd.read_csv(data_path)"
   ]
  },
  {
   "cell_type": "code",
   "execution_count": 2,
   "id": "cf2b50e9",
   "metadata": {},
   "outputs": [
    {
     "data": {
      "text/html": [
       "<div>\n",
       "<style scoped>\n",
       "    .dataframe tbody tr th:only-of-type {\n",
       "        vertical-align: middle;\n",
       "    }\n",
       "\n",
       "    .dataframe tbody tr th {\n",
       "        vertical-align: top;\n",
       "    }\n",
       "\n",
       "    .dataframe thead th {\n",
       "        text-align: right;\n",
       "    }\n",
       "</style>\n",
       "<table border=\"1\" class=\"dataframe\">\n",
       "  <thead>\n",
       "    <tr style=\"text-align: right;\">\n",
       "      <th></th>\n",
       "      <th>0</th>\n",
       "      <th>1</th>\n",
       "      <th>2</th>\n",
       "      <th>3</th>\n",
       "      <th>4</th>\n",
       "      <th>5</th>\n",
       "      <th>6</th>\n",
       "      <th>7</th>\n",
       "      <th>8</th>\n",
       "      <th>9</th>\n",
       "      <th>...</th>\n",
       "      <th>33</th>\n",
       "      <th>34</th>\n",
       "      <th>35</th>\n",
       "      <th>36</th>\n",
       "      <th>37</th>\n",
       "      <th>38</th>\n",
       "      <th>39</th>\n",
       "      <th>40</th>\n",
       "      <th>41</th>\n",
       "      <th>target</th>\n",
       "    </tr>\n",
       "  </thead>\n",
       "  <tbody>\n",
       "    <tr>\n",
       "      <th>0</th>\n",
       "      <td>55</td>\n",
       "      <td>103</td>\n",
       "      <td>131</td>\n",
       "      <td>159</td>\n",
       "      <td>177</td>\n",
       "      <td>62</td>\n",
       "      <td>100</td>\n",
       "      <td>133</td>\n",
       "      <td>153</td>\n",
       "      <td>50</td>\n",
       "      <td>...</td>\n",
       "      <td>63</td>\n",
       "      <td>76</td>\n",
       "      <td>37</td>\n",
       "      <td>46</td>\n",
       "      <td>63</td>\n",
       "      <td>86</td>\n",
       "      <td>51</td>\n",
       "      <td>47</td>\n",
       "      <td>50</td>\n",
       "      <td>0</td>\n",
       "    </tr>\n",
       "    <tr>\n",
       "      <th>1</th>\n",
       "      <td>54</td>\n",
       "      <td>104</td>\n",
       "      <td>133</td>\n",
       "      <td>165</td>\n",
       "      <td>182</td>\n",
       "      <td>66</td>\n",
       "      <td>103</td>\n",
       "      <td>135</td>\n",
       "      <td>157</td>\n",
       "      <td>52</td>\n",
       "      <td>...</td>\n",
       "      <td>73</td>\n",
       "      <td>78</td>\n",
       "      <td>43</td>\n",
       "      <td>50</td>\n",
       "      <td>66</td>\n",
       "      <td>84</td>\n",
       "      <td>49</td>\n",
       "      <td>44</td>\n",
       "      <td>48</td>\n",
       "      <td>0</td>\n",
       "    </tr>\n",
       "    <tr>\n",
       "      <th>2</th>\n",
       "      <td>55</td>\n",
       "      <td>105</td>\n",
       "      <td>136</td>\n",
       "      <td>168</td>\n",
       "      <td>183</td>\n",
       "      <td>63</td>\n",
       "      <td>103</td>\n",
       "      <td>136</td>\n",
       "      <td>157</td>\n",
       "      <td>50</td>\n",
       "      <td>...</td>\n",
       "      <td>72</td>\n",
       "      <td>77</td>\n",
       "      <td>41</td>\n",
       "      <td>50</td>\n",
       "      <td>66</td>\n",
       "      <td>83</td>\n",
       "      <td>48</td>\n",
       "      <td>43</td>\n",
       "      <td>45</td>\n",
       "      <td>0</td>\n",
       "    </tr>\n",
       "    <tr>\n",
       "      <th>3</th>\n",
       "      <td>56</td>\n",
       "      <td>104</td>\n",
       "      <td>134</td>\n",
       "      <td>165</td>\n",
       "      <td>181</td>\n",
       "      <td>66</td>\n",
       "      <td>103</td>\n",
       "      <td>134</td>\n",
       "      <td>154</td>\n",
       "      <td>53</td>\n",
       "      <td>...</td>\n",
       "      <td>73</td>\n",
       "      <td>78</td>\n",
       "      <td>42</td>\n",
       "      <td>51</td>\n",
       "      <td>67</td>\n",
       "      <td>82</td>\n",
       "      <td>47</td>\n",
       "      <td>42</td>\n",
       "      <td>45</td>\n",
       "      <td>0</td>\n",
       "    </tr>\n",
       "    <tr>\n",
       "      <th>4</th>\n",
       "      <td>52</td>\n",
       "      <td>102</td>\n",
       "      <td>133</td>\n",
       "      <td>164</td>\n",
       "      <td>180</td>\n",
       "      <td>66</td>\n",
       "      <td>102</td>\n",
       "      <td>133</td>\n",
       "      <td>154</td>\n",
       "      <td>54</td>\n",
       "      <td>...</td>\n",
       "      <td>73</td>\n",
       "      <td>76</td>\n",
       "      <td>42</td>\n",
       "      <td>52</td>\n",
       "      <td>68</td>\n",
       "      <td>80</td>\n",
       "      <td>46</td>\n",
       "      <td>42</td>\n",
       "      <td>46</td>\n",
       "      <td>0</td>\n",
       "    </tr>\n",
       "  </tbody>\n",
       "</table>\n",
       "<p>5 rows × 43 columns</p>\n",
       "</div>"
      ],
      "text/plain": [
       "    0    1    2    3    4   5    6    7    8   9  ...  33  34  35  36  37  38  \\\n",
       "0  55  103  131  159  177  62  100  133  153  50  ...  63  76  37  46  63  86   \n",
       "1  54  104  133  165  182  66  103  135  157  52  ...  73  78  43  50  66  84   \n",
       "2  55  105  136  168  183  63  103  136  157  50  ...  72  77  41  50  66  83   \n",
       "3  56  104  134  165  181  66  103  134  154  53  ...  73  78  42  51  67  82   \n",
       "4  52  102  133  164  180  66  102  133  154  54  ...  73  76  42  52  68  80   \n",
       "\n",
       "   39  40  41  target  \n",
       "0  51  47  50       0  \n",
       "1  49  44  48       0  \n",
       "2  48  43  45       0  \n",
       "3  47  42  45       0  \n",
       "4  46  42  46       0  \n",
       "\n",
       "[5 rows x 43 columns]"
      ]
     },
     "execution_count": 2,
     "metadata": {},
     "output_type": "execute_result"
    }
   ],
   "source": [
    "hand_pose.head()"
   ]
  },
  {
   "cell_type": "code",
   "execution_count": 3,
   "id": "d4e83457",
   "metadata": {},
   "outputs": [
    {
     "name": "stdout",
     "output_type": "stream",
     "text": [
      "<class 'pandas.core.frame.DataFrame'>\n",
      "RangeIndex: 15780 entries, 0 to 15779\n",
      "Data columns (total 43 columns):\n",
      " #   Column  Non-Null Count  Dtype\n",
      "---  ------  --------------  -----\n",
      " 0   0       15780 non-null  int64\n",
      " 1   1       15780 non-null  int64\n",
      " 2   2       15780 non-null  int64\n",
      " 3   3       15780 non-null  int64\n",
      " 4   4       15780 non-null  int64\n",
      " 5   5       15780 non-null  int64\n",
      " 6   6       15780 non-null  int64\n",
      " 7   7       15780 non-null  int64\n",
      " 8   8       15780 non-null  int64\n",
      " 9   9       15780 non-null  int64\n",
      " 10  10      15780 non-null  int64\n",
      " 11  11      15780 non-null  int64\n",
      " 12  12      15780 non-null  int64\n",
      " 13  13      15780 non-null  int64\n",
      " 14  14      15780 non-null  int64\n",
      " 15  15      15780 non-null  int64\n",
      " 16  16      15780 non-null  int64\n",
      " 17  17      15780 non-null  int64\n",
      " 18  18      15780 non-null  int64\n",
      " 19  19      15780 non-null  int64\n",
      " 20  20      15780 non-null  int64\n",
      " 21  21      15780 non-null  int64\n",
      " 22  22      15780 non-null  int64\n",
      " 23  23      15780 non-null  int64\n",
      " 24  24      15780 non-null  int64\n",
      " 25  25      15780 non-null  int64\n",
      " 26  26      15780 non-null  int64\n",
      " 27  27      15780 non-null  int64\n",
      " 28  28      15780 non-null  int64\n",
      " 29  29      15780 non-null  int64\n",
      " 30  30      15780 non-null  int64\n",
      " 31  31      15780 non-null  int64\n",
      " 32  32      15780 non-null  int64\n",
      " 33  33      15780 non-null  int64\n",
      " 34  34      15780 non-null  int64\n",
      " 35  35      15780 non-null  int64\n",
      " 36  36      15780 non-null  int64\n",
      " 37  37      15780 non-null  int64\n",
      " 38  38      15780 non-null  int64\n",
      " 39  39      15780 non-null  int64\n",
      " 40  40      15780 non-null  int64\n",
      " 41  41      15780 non-null  int64\n",
      " 42  target  15780 non-null  int64\n",
      "dtypes: int64(43)\n",
      "memory usage: 5.2 MB\n"
     ]
    }
   ],
   "source": [
    "hand_pose.info()"
   ]
  },
  {
   "cell_type": "code",
   "execution_count": 4,
   "id": "98275f98",
   "metadata": {},
   "outputs": [
    {
     "data": {
      "text/plain": [
       "3    2168\n",
       "5    2159\n",
       "9    2122\n",
       "4    1778\n",
       "8    1454\n",
       "1    1433\n",
       "6    1239\n",
       "7    1206\n",
       "2    1201\n",
       "0    1020\n",
       "Name: target, dtype: int64"
      ]
     },
     "execution_count": 4,
     "metadata": {},
     "output_type": "execute_result"
    }
   ],
   "source": [
    "hand_pose['target'].value_counts()"
   ]
  },
  {
   "cell_type": "code",
   "execution_count": 5,
   "id": "a5c9cc14",
   "metadata": {},
   "outputs": [
    {
     "name": "stdout",
     "output_type": "stream",
     "text": [
      "(15780, 42)\n",
      "(15780,)\n"
     ]
    }
   ],
   "source": [
    "# split train input and output data\n",
    "X = hand_pose.drop(axis=0, columns=['target'])\n",
    "Y = hand_pose.target\n",
    "\n",
    "#Print the shape of X and Y\n",
    "print(X.shape)\n",
    "print(Y.shape)"
   ]
  },
  {
   "cell_type": "code",
   "execution_count": 6,
   "id": "5bf225cf",
   "metadata": {},
   "outputs": [],
   "source": [
    "from sklearn.model_selection import train_test_split\n",
    "# Split into training and test sets\n",
    "X_train, X_test, y_train, y_test = train_test_split(X, Y, test_size=0.15, random_state=42)"
   ]
  },
  {
   "cell_type": "code",
   "execution_count": 7,
   "id": "d159f177",
   "metadata": {},
   "outputs": [
    {
     "name": "stdout",
     "output_type": "stream",
     "text": [
      "0.9915504858470638\n"
     ]
    }
   ],
   "source": [
    "from sklearn.neighbors import KNeighborsClassifier\n",
    "from sklearn.metrics import confusion_matrix\n",
    "\n",
    "knn = KNeighborsClassifier(n_neighbors = 7).fit(X_train, y_train)\n",
    "  \n",
    "# accuracy on X_test\n",
    "accuracy = knn.score(X_test, y_test)\n",
    "print(accuracy)\n",
    "  \n",
    "# creating a confusion matrix\n",
    "knn_predictions = knn.predict(X_test) \n",
    "cm = confusion_matrix(y_test, knn_predictions)"
   ]
  },
  {
   "cell_type": "code",
   "execution_count": 9,
   "id": "9274804f",
   "metadata": {},
   "outputs": [],
   "source": [
    "import matplotlib.pyplot as plt\n",
    "import seaborn as sns\n",
    "\n",
    "def plt_cm(cm):\n",
    "    plt.figure(figsize = (10,10)) #y_true and predictied\n",
    "    sns.heatmap(cm, annot=True,fmt= '.1f')\n",
    "    plt.xlabel(\"Predicted Label\")\n",
    "    plt.ylabel(\"True Label\")\n",
    "    plt.title(\"Confusion Matrix\")\n",
    "    plt.savefig(os.path.join('/run/media/mh1644/My work/machine learning/deep_learning/computer_vision/livenes_detection/data/code/conf_matrix.jpg'))\n",
    "    plt.show()"
   ]
  },
  {
   "cell_type": "code",
   "execution_count": 10,
   "id": "af8bc85f",
   "metadata": {},
   "outputs": [
    {
     "data": {
      "image/png": "[encoded data removed]",
      "text/plain": [
       "<Figure size 720x720 with 2 Axes>"
      ]
     },
     "metadata": {
      "needs_background": "light"
     },
     "output_type": "display_data"
    }
   ],
   "source": [
    "plt_cm(cm)"
   ]
  },
  {
   "cell_type": "code",
   "execution_count": 12,
   "id": "5a965cbe",
   "metadata": {},
   "outputs": [
    {
     "name": "stdout",
     "output_type": "stream",
     "text": [
      "0.9915504858470638\n"
     ]
    }
   ],
   "source": [
    "import pickle\n",
    "filename = '/run/media/mh1644/My work/machine learning/deep_learning/computer_vision/livenes_detection/data/code/finalized_model.sav'\n",
    "pickle.dump(knn, open(filename, 'wb'))\n",
    " \n",
    "# some time later...\n",
    " \n",
    "# load the model from disk\n",
    "loaded_model = pickle.load(open(filename, 'rb'))\n",
    "score = loaded_model.score(X_test, y_test)\n",
    "print(score)"
   ]
  },
  {
   "cell_type": "code",
   "execution_count": 13,
   "id": "7f8787c4",
   "metadata": {},
   "outputs": [
    {
     "name": "stdout",
     "output_type": "stream",
     "text": [
      "              precision    recall  f1-score   support\n",
      "\n",
      "           0       1.00      1.00      1.00       152\n",
      "           1       0.99      1.00      0.99       195\n",
      "           2       0.98      0.98      0.98       183\n",
      "           3       1.00      0.99      1.00       348\n",
      "           4       0.98      1.00      0.99       289\n",
      "           5       1.00      1.00      1.00       312\n",
      "           6       0.99      0.97      0.98       168\n",
      "           7       0.99      0.97      0.98       185\n",
      "           8       0.99      0.99      0.99       228\n",
      "           9       0.99      1.00      1.00       307\n",
      "\n",
      "    accuracy                           0.99      2367\n",
      "   macro avg       0.99      0.99      0.99      2367\n",
      "weighted avg       0.99      0.99      0.99      2367\n",
      "\n"
     ]
    }
   ],
   "source": [
    "from sklearn.metrics import classification_report\n",
    "print(classification_report(y_test, knn_predictions))\n"
   ]
  }
 ],
 "metadata": {
  "kernelspec": {
   "display_name": "Python 3",
   "language": "python",
   "name": "python3"
  },
  "language_info": {
   "codemirror_mode": {
    "name": "ipython",
    "version": 3
   },
   "file_extension": ".py",
   "mimetype": "text/x-python",
   "name": "python",
   "nbconvert_exporter": "python",
   "pygments_lexer": "ipython3",
   "version": "3.8.8"
  }
 },
 "nbformat": 4,
 "nbformat_minor": 5
}
